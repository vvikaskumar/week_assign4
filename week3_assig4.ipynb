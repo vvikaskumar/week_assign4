{
 "cells": [
  {
   "cell_type": "markdown",
   "id": "f0bd42fd-d0ed-4204-8bca-7b31d224084e",
   "metadata": {},
   "source": [
    "Q1. Create a python program to sort the given list of tuples based on integer value using a\n",
    "lambda function.\n",
    "[('Sachin Tendulkar', 34357), ('Ricky Ponting', 27483), ('Jack Kallis', 25534), ('Virat Kohli', 24936)]\n",
    "\n",
    "Ans - Answer is in the next cell"
   ]
  },
  {
   "cell_type": "code",
   "execution_count": 1,
   "id": "ee3d6b46-b500-434d-8188-6a7c4a01014f",
   "metadata": {},
   "outputs": [],
   "source": [
    "my_list = [(\"Sachin Tendulkar\" ,34357),('Ricky Ponting' , 27483),('Jack Kallis',25534),('Virat Kohli',24936)]"
   ]
  },
  {
   "cell_type": "code",
   "execution_count": 2,
   "id": "be7dfd03-293f-48d0-aec4-d5ebe6ab6c2d",
   "metadata": {},
   "outputs": [
    {
     "data": {
      "text/plain": [
       "[('Virat Kohli', 24936),\n",
       " ('Jack Kallis', 25534),\n",
       " ('Ricky Ponting', 27483),\n",
       " ('Sachin Tendulkar', 34357)]"
      ]
     },
     "execution_count": 2,
     "metadata": {},
     "output_type": "execute_result"
    }
   ],
   "source": [
    "sorted(my_list, key=lambda x:x[1])"
   ]
  },
  {
   "cell_type": "markdown",
   "id": "8178b030-ad83-45bd-bc53-c443c10433e2",
   "metadata": {},
   "source": [
    "Q2. Write a Python Program to find the squares of all the numbers in the given list of integers using\n",
    "lambda and map functions.\n",
    "[1, 2, 3, 4, 5, 6, 7, 8, 9, 10]\n",
    "\n",
    "Ans - Anwer is in the next cell"
   ]
  },
  {
   "cell_type": "code",
   "execution_count": 3,
   "id": "7aedb718-1224-4ba5-9b70-ce463188fc99",
   "metadata": {},
   "outputs": [],
   "source": [
    "square_this =[1,2,3,4,5,6,7,8,9,10]"
   ]
  },
  {
   "cell_type": "code",
   "execution_count": 4,
   "id": "a45f65ac-6e17-47da-8805-2708fd04b388",
   "metadata": {},
   "outputs": [
    {
     "data": {
      "text/plain": [
       "[1, 4, 9, 16, 25, 36, 49, 64, 81, 100]"
      ]
     },
     "execution_count": 4,
     "metadata": {},
     "output_type": "execute_result"
    }
   ],
   "source": [
    "list(map(lambda x:x**2 ,square_this))"
   ]
  },
  {
   "cell_type": "markdown",
   "id": "e9f9a433-1bfc-4e79-8a8d-2218bcb181d5",
   "metadata": {},
   "source": [
    "Q3. Write a python program to convert the given list of integers into a tuple of strings. Use map and\n",
    "lambda functions\n",
    "Given String: [1, 2, 3, 4, 5, 6, 7, 8, 9, 10]\n",
    "Expected output: ('1', '2', '3', '4', '5', '6', '7', '8', '9', '10')\n",
    "\n",
    "Ans - Answer is in the next cell"
   ]
  },
  {
   "cell_type": "code",
   "execution_count": 5,
   "id": "08550d0c-4ed1-433b-802a-c7ab621a49a8",
   "metadata": {},
   "outputs": [],
   "source": [
    "str_list = [1,2,3,4,5,6,7,8,9,10]"
   ]
  },
  {
   "cell_type": "code",
   "execution_count": 6,
   "id": "abb8c8e5-89da-429e-bed4-6d6abf577472",
   "metadata": {},
   "outputs": [
    {
     "data": {
      "text/plain": [
       "('1', '2', '3', '4', '5', '6', '7', '8', '9', '10')"
      ]
     },
     "execution_count": 6,
     "metadata": {},
     "output_type": "execute_result"
    }
   ],
   "source": [
    "tuple(map(lambda x:str(x) , str_list))"
   ]
  },
  {
   "cell_type": "markdown",
   "id": "bd578541-a24c-431d-887a-3822a864b519",
   "metadata": {},
   "source": [
    "Q4. Write a python program using reduce function to compute the product of a list containing numbers\n",
    "from 1 to 25.\n",
    "Ans - Answer is in the next cell"
   ]
  },
  {
   "cell_type": "code",
   "execution_count": 7,
   "id": "cdb21d74-aa64-4851-bf72-4a64d354e7ec",
   "metadata": {},
   "outputs": [],
   "source": [
    "new_list =[1,2,3,4,5,6,7,8,9,10,11,12,13,14,15,16,17,18,19,20,21,22,23,24,25]"
   ]
  },
  {
   "cell_type": "code",
   "execution_count": 8,
   "id": "4290c638-cbc2-41b9-979d-a0f39a21d9e9",
   "metadata": {},
   "outputs": [],
   "source": [
    "from functools import reduce"
   ]
  },
  {
   "cell_type": "code",
   "execution_count": 9,
   "id": "36de878f-abba-42ae-8662-556070f901a2",
   "metadata": {},
   "outputs": [
    {
     "data": {
      "text/plain": [
       "15511210043330985984000000"
      ]
     },
     "execution_count": 9,
     "metadata": {},
     "output_type": "execute_result"
    }
   ],
   "source": [
    "reduce(lambda x,y:x*y , new_list)"
   ]
  },
  {
   "cell_type": "markdown",
   "id": "4b5755c8-bc17-4157-96e1-c8e17aebe691",
   "metadata": {},
   "source": [
    "Q5. Write a python program to filter the numbers in a given list that are divisible by 2 and 3 using the\n",
    "filter function.\n",
    "[2, 3, 6, 9, 27, 60, 90, 120, 55, 46]\n",
    "\n",
    "Ans - Answer is in the next cell"
   ]
  },
  {
   "cell_type": "code",
   "execution_count": 10,
   "id": "21362640-c117-4aa9-807d-7de325bc1b40",
   "metadata": {},
   "outputs": [
    {
     "name": "stdout",
     "output_type": "stream",
     "text": [
      "[2, 3, 6, 27, 60, 90, 120, 55, 46]\n"
     ]
    }
   ],
   "source": [
    "list1 = [2,3,6,27,60,90,120,55,46]\n",
    "filtered_list = list(filter(lambda x : x%2 ==0 and x%3==0 , list1))\n",
    "print(list1)\n"
   ]
  },
  {
   "cell_type": "markdown",
   "id": "c2e9a230-5541-48e9-96e4-c9f7cac2bd37",
   "metadata": {},
   "source": [
    "Q6. Write a python program to find palindromes in the given list of strings using lambda and filter\n",
    "function.['python', 'php', 'aba', 'radar', 'level']\n",
    "\n",
    "Ans - Answer is in the next cell"
   ]
  },
  {
   "cell_type": "code",
   "execution_count": 11,
   "id": "f738b520-cffc-41cc-b561-ef79fa965202",
   "metadata": {},
   "outputs": [
    {
     "name": "stdout",
     "output_type": "stream",
     "text": [
      "['php', 'aba', 'radar', 'level']\n"
     ]
    }
   ],
   "source": [
    "my_list1 = ['python' , 'php' , 'aba' , 'radar' , 'level']\n",
    "palindromes = list(filter(lambda x : (x==\"\".join(reversed (x))) , my_list1))\n",
    "print(palindromes)"
   ]
  },
  {
   "cell_type": "code",
   "execution_count": null,
   "id": "9f97a2a6-04fe-4540-b94f-f2958a385c44",
   "metadata": {},
   "outputs": [],
   "source": []
  }
 ],
 "metadata": {
  "kernelspec": {
   "display_name": "Python 3 (ipykernel)",
   "language": "python",
   "name": "python3"
  },
  "language_info": {
   "codemirror_mode": {
    "name": "ipython",
    "version": 3
   },
   "file_extension": ".py",
   "mimetype": "text/x-python",
   "name": "python",
   "nbconvert_exporter": "python",
   "pygments_lexer": "ipython3",
   "version": "3.10.8"
  }
 },
 "nbformat": 4,
 "nbformat_minor": 5
}
